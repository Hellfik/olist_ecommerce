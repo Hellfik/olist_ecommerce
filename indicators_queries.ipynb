{
 "cells": [
  {
   "cell_type": "markdown",
   "metadata": {},
   "source": [
    "# Import modules"
   ]
  },
  {
   "cell_type": "code",
   "execution_count": 1,
   "metadata": {},
   "outputs": [
    {
     "data": {
      "text/plain": "<sqlite3.Cursor at 0x7fd9bfe0df10>"
     },
     "execution_count": 1,
     "metadata": {},
     "output_type": "execute_result"
    }
   ],
   "source": [
    "import sqlite3\n",
    "import pandas as pd\n",
    "import matplotlib.pyplot as plt\n",
    "\n",
    "DB_NAME = 'olist_db.db'\n",
    "\n",
    "con = sqlite3.connect(DB_NAME)\n",
    "cur = con.cursor()\n",
    "cur.execute('pragma encoding=UTF8')"
   ]
  },
  {
   "cell_type": "markdown",
   "metadata": {},
   "source": [
    "# Calcul le nombre de clients dans la table des customers"
   ]
  },
  {
   "cell_type": "code",
   "execution_count": 4,
   "metadata": {},
   "outputs": [
    {
     "data": {
      "text/html": "<div>\n<style scoped>\n    .dataframe tbody tr th:only-of-type {\n        vertical-align: middle;\n    }\n\n    .dataframe tbody tr th {\n        vertical-align: top;\n    }\n\n    .dataframe thead th {\n        text-align: right;\n    }\n</style>\n<table border=\"1\" class=\"dataframe\">\n  <thead>\n    <tr style=\"text-align: right;\">\n      <th></th>\n      <th>nb_customers</th>\n    </tr>\n  </thead>\n  <tbody>\n    <tr>\n      <th>0</th>\n      <td>96096</td>\n    </tr>\n  </tbody>\n</table>\n</div>",
      "text/plain": "   nb_customers\n0         96096"
     },
     "execution_count": 4,
     "metadata": {},
     "output_type": "execute_result"
    }
   ],
   "source": [
    "nb_clients_query = \"\"\"\n",
    "    SELECT COUNT(DISTINCT customer_unique_id) as nb_customers \n",
    "    FROM olist_customers_dataset\n",
    "\"\"\"\n",
    "\n",
    "clients_count = pd.read_sql(nb_clients_query, con)\n",
    "clients_count"
   ]
  },
  {
   "cell_type": "markdown",
   "metadata": {},
   "source": [
    "# Calcul du nombre de produits dans la table des products"
   ]
  },
  {
   "cell_type": "code",
   "execution_count": 4,
   "metadata": {},
   "outputs": [
    {
     "data": {
      "text/html": "<div>\n<style scoped>\n    .dataframe tbody tr th:only-of-type {\n        vertical-align: middle;\n    }\n\n    .dataframe tbody tr th {\n        vertical-align: top;\n    }\n\n    .dataframe thead th {\n        text-align: right;\n    }\n</style>\n<table border=\"1\" class=\"dataframe\">\n  <thead>\n    <tr style=\"text-align: right;\">\n      <th></th>\n      <th>nb_products</th>\n    </tr>\n  </thead>\n  <tbody>\n    <tr>\n      <th>0</th>\n      <td>32951</td>\n    </tr>\n  </tbody>\n</table>\n</div>",
      "text/plain": "   nb_products\n0        32951"
     },
     "execution_count": 4,
     "metadata": {},
     "output_type": "execute_result"
    }
   ],
   "source": [
    "nb_products_query = \"\"\"\n",
    "    SELECT COUNT(product_id) as nb_products\n",
    "    FROM olist_products_dataset\n",
    "\"\"\"\n",
    "\n",
    "products_count = pd.read_sql(nb_products_query, con)\n",
    "products_count"
   ]
  },
  {
   "cell_type": "markdown",
   "metadata": {},
   "source": [
    "# Calcul du nombre de produits par catégorie"
   ]
  },
  {
   "cell_type": "code",
   "execution_count": 66,
   "metadata": {},
   "outputs": [
    {
     "data": {
      "text/html": "<div>\n<style scoped>\n    .dataframe tbody tr th:only-of-type {\n        vertical-align: middle;\n    }\n\n    .dataframe tbody tr th {\n        vertical-align: top;\n    }\n\n    .dataframe thead th {\n        text-align: right;\n    }\n</style>\n<table border=\"1\" class=\"dataframe\">\n  <thead>\n    <tr style=\"text-align: right;\">\n      <th></th>\n      <th>nb_products</th>\n      <th>category</th>\n    </tr>\n  </thead>\n  <tbody>\n    <tr>\n      <th>0</th>\n      <td>3029</td>\n      <td>bed_bath_table</td>\n    </tr>\n    <tr>\n      <th>1</th>\n      <td>2867</td>\n      <td>sports_leisure</td>\n    </tr>\n    <tr>\n      <th>2</th>\n      <td>2657</td>\n      <td>furniture_decor</td>\n    </tr>\n    <tr>\n      <th>3</th>\n      <td>2444</td>\n      <td>health_beauty</td>\n    </tr>\n    <tr>\n      <th>4</th>\n      <td>2335</td>\n      <td>housewares</td>\n    </tr>\n    <tr>\n      <th>...</th>\n      <td>...</td>\n      <td>...</td>\n    </tr>\n    <tr>\n      <th>66</th>\n      <td>9</td>\n      <td>tablets_printing_image</td>\n    </tr>\n    <tr>\n      <th>67</th>\n      <td>5</td>\n      <td>home_comfort_2</td>\n    </tr>\n    <tr>\n      <th>68</th>\n      <td>5</td>\n      <td>fashion_childrens_clothes</td>\n    </tr>\n    <tr>\n      <th>69</th>\n      <td>2</td>\n      <td>security_and_services</td>\n    </tr>\n    <tr>\n      <th>70</th>\n      <td>1</td>\n      <td>cds_dvds_musicals</td>\n    </tr>\n  </tbody>\n</table>\n<p>71 rows × 2 columns</p>\n</div>",
      "text/plain": "    nb_products                   category\n0          3029             bed_bath_table\n1          2867             sports_leisure\n2          2657            furniture_decor\n3          2444              health_beauty\n4          2335                 housewares\n..          ...                        ...\n66            9     tablets_printing_image\n67            5             home_comfort_2\n68            5  fashion_childrens_clothes\n69            2      security_and_services\n70            1          cds_dvds_musicals\n\n[71 rows x 2 columns]"
     },
     "execution_count": 66,
     "metadata": {},
     "output_type": "execute_result"
    }
   ],
   "source": [
    "nb_products_by_cat_query = \"\"\"\n",
    "    SELECT COUNT(p.product_id) as nb_products, product_category_name_english AS category\n",
    "    FROM olist_products_dataset AS p\n",
    "    INNER JOIN product_category_name_translation AS t\n",
    "    ON p.product_category_name = t.product_category_name\n",
    "    GROUP BY category\n",
    "    ORDER BY nb_products DESC\n",
    "\"\"\"\n",
    "\n",
    "\n",
    "\n",
    "products_by_cat = pd.read_sql(nb_products_by_cat_query,con)\n",
    "products_by_cat"
   ]
  },
  {
   "cell_type": "markdown",
   "metadata": {},
   "source": [
    "# Calcul du nombre de commandes dans la table orders"
   ]
  },
  {
   "cell_type": "code",
   "execution_count": 6,
   "metadata": {},
   "outputs": [
    {
     "data": {
      "text/html": "<div>\n<style scoped>\n    .dataframe tbody tr th:only-of-type {\n        vertical-align: middle;\n    }\n\n    .dataframe tbody tr th {\n        vertical-align: top;\n    }\n\n    .dataframe thead th {\n        text-align: right;\n    }\n</style>\n<table border=\"1\" class=\"dataframe\">\n  <thead>\n    <tr style=\"text-align: right;\">\n      <th></th>\n      <th>nb_orders</th>\n    </tr>\n  </thead>\n  <tbody>\n    <tr>\n      <th>0</th>\n      <td>99441</td>\n    </tr>\n  </tbody>\n</table>\n</div>",
      "text/plain": "   nb_orders\n0      99441"
     },
     "execution_count": 6,
     "metadata": {},
     "output_type": "execute_result"
    }
   ],
   "source": [
    "nb_orders_query = \"\"\"\n",
    "    SELECT COUNT(order_id) as nb_orders\n",
    "    FROM olist_orders_dataset\n",
    "\"\"\"\n",
    "\n",
    "nb_orders = pd.read_sql(nb_orders_query,con)\n",
    "nb_orders"
   ]
  },
  {
   "cell_type": "markdown",
   "metadata": {},
   "source": [
    "# Calcul du nombre de commandes par status"
   ]
  },
  {
   "cell_type": "code",
   "execution_count": 8,
   "metadata": {},
   "outputs": [
    {
     "data": {
      "text/html": "<div>\n<style scoped>\n    .dataframe tbody tr th:only-of-type {\n        vertical-align: middle;\n    }\n\n    .dataframe tbody tr th {\n        vertical-align: top;\n    }\n\n    .dataframe thead th {\n        text-align: right;\n    }\n</style>\n<table border=\"1\" class=\"dataframe\">\n  <thead>\n    <tr style=\"text-align: right;\">\n      <th></th>\n      <th>nb_orders</th>\n      <th>order_status</th>\n    </tr>\n  </thead>\n  <tbody>\n    <tr>\n      <th>0</th>\n      <td>96478</td>\n      <td>delivered</td>\n    </tr>\n    <tr>\n      <th>1</th>\n      <td>1107</td>\n      <td>shipped</td>\n    </tr>\n    <tr>\n      <th>2</th>\n      <td>625</td>\n      <td>canceled</td>\n    </tr>\n    <tr>\n      <th>3</th>\n      <td>609</td>\n      <td>unavailable</td>\n    </tr>\n    <tr>\n      <th>4</th>\n      <td>314</td>\n      <td>invoiced</td>\n    </tr>\n    <tr>\n      <th>5</th>\n      <td>301</td>\n      <td>processing</td>\n    </tr>\n    <tr>\n      <th>6</th>\n      <td>5</td>\n      <td>created</td>\n    </tr>\n    <tr>\n      <th>7</th>\n      <td>2</td>\n      <td>approved</td>\n    </tr>\n  </tbody>\n</table>\n</div>",
      "text/plain": "   nb_orders order_status\n0      96478    delivered\n1       1107      shipped\n2        625     canceled\n3        609  unavailable\n4        314     invoiced\n5        301   processing\n6          5      created\n7          2     approved"
     },
     "execution_count": 8,
     "metadata": {},
     "output_type": "execute_result"
    }
   ],
   "source": [
    "nb_order_by_status_query = \"\"\"\n",
    "    SELECT COUNT(order_id) as nb_orders, order_status\n",
    "    FROM olist_orders_dataset\n",
    "    GROUP BY order_status\n",
    "    ORDER BY nb_orders DESC\n",
    "\"\"\"\n",
    "\n",
    "nb_order_by_status = pd.read_sql(nb_order_by_status_query,con)\n",
    "nb_order_by_status"
   ]
  },
  {
   "cell_type": "markdown",
   "metadata": {},
   "source": [
    "# Calcul du nombre de commandes par mois"
   ]
  },
  {
   "cell_type": "code",
   "execution_count": 10,
   "metadata": {},
   "outputs": [
    {
     "data": {
      "text/html": "<div>\n<style scoped>\n    .dataframe tbody tr th:only-of-type {\n        vertical-align: middle;\n    }\n\n    .dataframe tbody tr th {\n        vertical-align: top;\n    }\n\n    .dataframe thead th {\n        text-align: right;\n    }\n</style>\n<table border=\"1\" class=\"dataframe\">\n  <thead>\n    <tr style=\"text-align: right;\">\n      <th></th>\n      <th>date</th>\n      <th>order_by_month</th>\n    </tr>\n  </thead>\n  <tbody>\n    <tr>\n      <th>0</th>\n      <td>None</td>\n      <td>160</td>\n    </tr>\n    <tr>\n      <th>1</th>\n      <td>2016-09</td>\n      <td>1</td>\n    </tr>\n    <tr>\n      <th>2</th>\n      <td>2016-10</td>\n      <td>320</td>\n    </tr>\n    <tr>\n      <th>3</th>\n      <td>2016-12</td>\n      <td>1</td>\n    </tr>\n    <tr>\n      <th>4</th>\n      <td>2017-01</td>\n      <td>760</td>\n    </tr>\n    <tr>\n      <th>5</th>\n      <td>2017-02</td>\n      <td>1765</td>\n    </tr>\n    <tr>\n      <th>6</th>\n      <td>2017-03</td>\n      <td>2689</td>\n    </tr>\n    <tr>\n      <th>7</th>\n      <td>2017-04</td>\n      <td>2374</td>\n    </tr>\n    <tr>\n      <th>8</th>\n      <td>2017-05</td>\n      <td>3693</td>\n    </tr>\n    <tr>\n      <th>9</th>\n      <td>2017-06</td>\n      <td>3252</td>\n    </tr>\n    <tr>\n      <th>10</th>\n      <td>2017-07</td>\n      <td>3974</td>\n    </tr>\n    <tr>\n      <th>11</th>\n      <td>2017-08</td>\n      <td>4348</td>\n    </tr>\n    <tr>\n      <th>12</th>\n      <td>2017-09</td>\n      <td>4301</td>\n    </tr>\n    <tr>\n      <th>13</th>\n      <td>2017-10</td>\n      <td>4590</td>\n    </tr>\n    <tr>\n      <th>14</th>\n      <td>2017-11</td>\n      <td>7395</td>\n    </tr>\n    <tr>\n      <th>15</th>\n      <td>2017-12</td>\n      <td>5832</td>\n    </tr>\n    <tr>\n      <th>16</th>\n      <td>2018-01</td>\n      <td>7187</td>\n    </tr>\n    <tr>\n      <th>17</th>\n      <td>2018-02</td>\n      <td>6706</td>\n    </tr>\n    <tr>\n      <th>18</th>\n      <td>2018-03</td>\n      <td>7288</td>\n    </tr>\n    <tr>\n      <th>19</th>\n      <td>2018-04</td>\n      <td>6778</td>\n    </tr>\n    <tr>\n      <th>20</th>\n      <td>2018-05</td>\n      <td>7066</td>\n    </tr>\n    <tr>\n      <th>21</th>\n      <td>2018-06</td>\n      <td>6164</td>\n    </tr>\n    <tr>\n      <th>22</th>\n      <td>2018-07</td>\n      <td>6176</td>\n    </tr>\n    <tr>\n      <th>23</th>\n      <td>2018-08</td>\n      <td>6620</td>\n    </tr>\n    <tr>\n      <th>24</th>\n      <td>2018-09</td>\n      <td>1</td>\n    </tr>\n  </tbody>\n</table>\n</div>",
      "text/plain": "       date  order_by_month\n0      None             160\n1   2016-09               1\n2   2016-10             320\n3   2016-12               1\n4   2017-01             760\n5   2017-02            1765\n6   2017-03            2689\n7   2017-04            2374\n8   2017-05            3693\n9   2017-06            3252\n10  2017-07            3974\n11  2017-08            4348\n12  2017-09            4301\n13  2017-10            4590\n14  2017-11            7395\n15  2017-12            5832\n16  2018-01            7187\n17  2018-02            6706\n18  2018-03            7288\n19  2018-04            6778\n20  2018-05            7066\n21  2018-06            6164\n22  2018-07            6176\n23  2018-08            6620\n24  2018-09               1"
     },
     "execution_count": 10,
     "metadata": {},
     "output_type": "execute_result"
    }
   ],
   "source": [
    "nb_order_by_month_query = \"\"\"\n",
    "    SELECT strftime('%Y-%m', order_approved_at) AS date,\n",
    "    COUNT(order_id) AS order_by_month\n",
    "    FROM olist_orders_dataset\n",
    "    GROUP BY date\n",
    "    ORDER BY date\n",
    "\"\"\"\n",
    "\n",
    "nb_order_by_month = pd.read_sql(nb_order_by_month_query,con)\n",
    "nb_order_by_month"
   ]
  },
  {
   "cell_type": "markdown",
   "metadata": {},
   "source": [
    "# Calcul du prix moyen d'une commande"
   ]
  },
  {
   "cell_type": "code",
   "execution_count": 12,
   "metadata": {},
   "outputs": [
    {
     "data": {
      "text/html": "<div>\n<style scoped>\n    .dataframe tbody tr th:only-of-type {\n        vertical-align: middle;\n    }\n\n    .dataframe tbody tr th {\n        vertical-align: top;\n    }\n\n    .dataframe thead th {\n        text-align: right;\n    }\n</style>\n<table border=\"1\" class=\"dataframe\">\n  <thead>\n    <tr style=\"text-align: right;\">\n      <th></th>\n      <th>mean_orders</th>\n    </tr>\n  </thead>\n  <tbody>\n    <tr>\n      <th>0</th>\n      <td>154.10038</td>\n    </tr>\n  </tbody>\n</table>\n</div>",
      "text/plain": "   mean_orders\n0    154.10038"
     },
     "execution_count": 12,
     "metadata": {},
     "output_type": "execute_result"
    }
   ],
   "source": [
    "mean_order_query = \"\"\"\n",
    "    SELECT AVG(payment_value) AS mean_orders\n",
    "    FROM olist_order_payments_dataset\n",
    "\"\"\"\n",
    "\n",
    "mean_order = pd.read_sql(mean_order_query,con)\n",
    "mean_order"
   ]
  },
  {
   "cell_type": "markdown",
   "metadata": {},
   "source": [
    "# Calcul du score de satisfaction moyen (note moyenne sur les commandes)"
   ]
  },
  {
   "cell_type": "code",
   "execution_count": 10,
   "metadata": {},
   "outputs": [
    {
     "data": {
      "text/html": "<div>\n<style scoped>\n    .dataframe tbody tr th:only-of-type {\n        vertical-align: middle;\n    }\n\n    .dataframe tbody tr th {\n        vertical-align: top;\n    }\n\n    .dataframe thead th {\n        text-align: right;\n    }\n</style>\n<table border=\"1\" class=\"dataframe\">\n  <thead>\n    <tr style=\"text-align: right;\">\n      <th></th>\n      <th>mean_reviews_score</th>\n    </tr>\n  </thead>\n  <tbody>\n    <tr>\n      <th>0</th>\n      <td>4.073296</td>\n    </tr>\n  </tbody>\n</table>\n</div>",
      "text/plain": "   mean_reviews_score\n0            4.073296"
     },
     "execution_count": 10,
     "metadata": {},
     "output_type": "execute_result"
    }
   ],
   "source": [
    "mean_score_query = \"\"\"\n",
    "    SELECT AVG(review_score) as mean_reviews_score\n",
    "    FROM olist_order_reviews_dataset\n",
    "\"\"\"\n",
    "\n",
    "mean_score = pd.read_sql(mean_score_query,con)\n",
    "mean_score"
   ]
  },
  {
   "cell_type": "markdown",
   "metadata": {},
   "source": [
    "# Calcul de nombre de vendeurs dans la table sellers"
   ]
  },
  {
   "cell_type": "code",
   "execution_count": 13,
   "metadata": {},
   "outputs": [
    {
     "data": {
      "text/html": "<div>\n<style scoped>\n    .dataframe tbody tr th:only-of-type {\n        vertical-align: middle;\n    }\n\n    .dataframe tbody tr th {\n        vertical-align: top;\n    }\n\n    .dataframe thead th {\n        text-align: right;\n    }\n</style>\n<table border=\"1\" class=\"dataframe\">\n  <thead>\n    <tr style=\"text-align: right;\">\n      <th></th>\n      <th>nb_sellers</th>\n    </tr>\n  </thead>\n  <tbody>\n    <tr>\n      <th>0</th>\n      <td>3095</td>\n    </tr>\n  </tbody>\n</table>\n</div>",
      "text/plain": "   nb_sellers\n0        3095"
     },
     "execution_count": 13,
     "metadata": {},
     "output_type": "execute_result"
    }
   ],
   "source": [
    "nb_sellers_query = \"\"\"\n",
    "    SELECT COUNT(DISTINCT seller_id) as nb_sellers\n",
    "    FROM olist_sellers_dataset\n",
    "\"\"\"\n",
    "\n",
    "nb_sellers = pd.read_sql(nb_sellers_query,con)\n",
    "nb_sellers"
   ]
  },
  {
   "cell_type": "markdown",
   "metadata": {},
   "source": [
    "# Calcul du nombre de vendeurs par region"
   ]
  },
  {
   "cell_type": "code",
   "execution_count": 15,
   "metadata": {},
   "outputs": [
    {
     "data": {
      "text/html": "<div>\n<style scoped>\n    .dataframe tbody tr th:only-of-type {\n        vertical-align: middle;\n    }\n\n    .dataframe tbody tr th {\n        vertical-align: top;\n    }\n\n    .dataframe thead th {\n        text-align: right;\n    }\n</style>\n<table border=\"1\" class=\"dataframe\">\n  <thead>\n    <tr style=\"text-align: right;\">\n      <th></th>\n      <th>nb_sellers</th>\n      <th>seller_state</th>\n    </tr>\n  </thead>\n  <tbody>\n    <tr>\n      <th>0</th>\n      <td>1849</td>\n      <td>SP</td>\n    </tr>\n    <tr>\n      <th>1</th>\n      <td>349</td>\n      <td>PR</td>\n    </tr>\n    <tr>\n      <th>2</th>\n      <td>244</td>\n      <td>MG</td>\n    </tr>\n    <tr>\n      <th>3</th>\n      <td>190</td>\n      <td>SC</td>\n    </tr>\n    <tr>\n      <th>4</th>\n      <td>171</td>\n      <td>RJ</td>\n    </tr>\n    <tr>\n      <th>5</th>\n      <td>129</td>\n      <td>RS</td>\n    </tr>\n    <tr>\n      <th>6</th>\n      <td>40</td>\n      <td>GO</td>\n    </tr>\n    <tr>\n      <th>7</th>\n      <td>30</td>\n      <td>DF</td>\n    </tr>\n    <tr>\n      <th>8</th>\n      <td>23</td>\n      <td>ES</td>\n    </tr>\n    <tr>\n      <th>9</th>\n      <td>19</td>\n      <td>BA</td>\n    </tr>\n    <tr>\n      <th>10</th>\n      <td>13</td>\n      <td>CE</td>\n    </tr>\n    <tr>\n      <th>11</th>\n      <td>9</td>\n      <td>PE</td>\n    </tr>\n    <tr>\n      <th>12</th>\n      <td>6</td>\n      <td>PB</td>\n    </tr>\n    <tr>\n      <th>13</th>\n      <td>5</td>\n      <td>RN</td>\n    </tr>\n    <tr>\n      <th>14</th>\n      <td>5</td>\n      <td>MS</td>\n    </tr>\n    <tr>\n      <th>15</th>\n      <td>4</td>\n      <td>MT</td>\n    </tr>\n    <tr>\n      <th>16</th>\n      <td>2</td>\n      <td>SE</td>\n    </tr>\n    <tr>\n      <th>17</th>\n      <td>2</td>\n      <td>RO</td>\n    </tr>\n    <tr>\n      <th>18</th>\n      <td>1</td>\n      <td>PI</td>\n    </tr>\n    <tr>\n      <th>19</th>\n      <td>1</td>\n      <td>PA</td>\n    </tr>\n    <tr>\n      <th>20</th>\n      <td>1</td>\n      <td>MA</td>\n    </tr>\n    <tr>\n      <th>21</th>\n      <td>1</td>\n      <td>AM</td>\n    </tr>\n    <tr>\n      <th>22</th>\n      <td>1</td>\n      <td>AC</td>\n    </tr>\n  </tbody>\n</table>\n</div>",
      "text/plain": "    nb_sellers seller_state\n0         1849           SP\n1          349           PR\n2          244           MG\n3          190           SC\n4          171           RJ\n5          129           RS\n6           40           GO\n7           30           DF\n8           23           ES\n9           19           BA\n10          13           CE\n11           9           PE\n12           6           PB\n13           5           RN\n14           5           MS\n15           4           MT\n16           2           SE\n17           2           RO\n18           1           PI\n19           1           PA\n20           1           MA\n21           1           AM\n22           1           AC"
     },
     "execution_count": 15,
     "metadata": {},
     "output_type": "execute_result"
    }
   ],
   "source": [
    "nb_sellers_by_state_query = \"\"\"\n",
    "    SELECT COUNT(seller_id) as nb_sellers, seller_state\n",
    "    FROM olist_sellers_dataset\n",
    "    GROUP BY seller_state\n",
    "    ORDER BY nb_sellers DESC\n",
    "\"\"\"\n",
    "\n",
    "nb_sellers_by_state = pd.read_sql(nb_sellers_by_state_query, con)\n",
    "nb_sellers_by_state"
   ]
  },
  {
   "cell_type": "markdown",
   "metadata": {},
   "source": [
    "# Calcul de la quantité de produits vendu par categorie"
   ]
  },
  {
   "cell_type": "code",
   "execution_count": 24,
   "metadata": {},
   "outputs": [
    {
     "data": {
      "text/html": "<div>\n<style scoped>\n    .dataframe tbody tr th:only-of-type {\n        vertical-align: middle;\n    }\n\n    .dataframe tbody tr th {\n        vertical-align: top;\n    }\n\n    .dataframe thead th {\n        text-align: right;\n    }\n</style>\n<table border=\"1\" class=\"dataframe\">\n  <thead>\n    <tr style=\"text-align: right;\">\n      <th></th>\n      <th>nb_sold_product</th>\n      <th>category</th>\n    </tr>\n  </thead>\n  <tbody>\n    <tr>\n      <th>0</th>\n      <td>9311</td>\n      <td>cama_mesa_banho</td>\n    </tr>\n    <tr>\n      <th>1</th>\n      <td>8796</td>\n      <td>beleza_saude</td>\n    </tr>\n    <tr>\n      <th>2</th>\n      <td>7681</td>\n      <td>esporte_lazer</td>\n    </tr>\n    <tr>\n      <th>3</th>\n      <td>6660</td>\n      <td>informatica_acessorios</td>\n    </tr>\n    <tr>\n      <th>4</th>\n      <td>6355</td>\n      <td>moveis_decoracao</td>\n    </tr>\n    <tr>\n      <th>...</th>\n      <td>...</td>\n      <td>...</td>\n    </tr>\n    <tr>\n      <th>69</th>\n      <td>12</td>\n      <td>la_cuisine</td>\n    </tr>\n    <tr>\n      <th>70</th>\n      <td>12</td>\n      <td>cds_dvds_musicais</td>\n    </tr>\n    <tr>\n      <th>71</th>\n      <td>8</td>\n      <td>fashion_roupa_infanto_juvenil</td>\n    </tr>\n    <tr>\n      <th>72</th>\n      <td>7</td>\n      <td>pc_gamer</td>\n    </tr>\n    <tr>\n      <th>73</th>\n      <td>2</td>\n      <td>seguros_e_servicos</td>\n    </tr>\n  </tbody>\n</table>\n<p>74 rows × 2 columns</p>\n</div>",
      "text/plain": "    nb_sold_product                       category\n0              9311                cama_mesa_banho\n1              8796                   beleza_saude\n2              7681                  esporte_lazer\n3              6660         informatica_acessorios\n4              6355               moveis_decoracao\n..              ...                            ...\n69               12                     la_cuisine\n70               12              cds_dvds_musicais\n71                8  fashion_roupa_infanto_juvenil\n72                7                       pc_gamer\n73                2             seguros_e_servicos\n\n[74 rows x 2 columns]"
     },
     "execution_count": 24,
     "metadata": {},
     "output_type": "execute_result"
    }
   ],
   "source": [
    "qty_sold_products_by_cat_query = \"\"\"\n",
    "    SELECT (COUNT(o.product_id) * o.order_item_id) AS nb_sold_product, p.product_category_name AS category\n",
    "    FROM olist_order_items_dataset AS o\n",
    "    INNER JOIN olist_products_dataset AS p\n",
    "    ON p.product_id = o.product_id\n",
    "    GROUP BY category\n",
    "    ORDER BY nb_sold_product DESC\n",
    "\"\"\"\n",
    "\n",
    "qty_sold_products_by_cat = pd.read_sql(qty_sold_products_by_cat_query, con)\n",
    "qty_sold_products_by_cat\n",
    "# qty_sold_products_by_cat.nb_sold_product.sum()\n"
   ]
  },
  {
   "cell_type": "markdown",
   "metadata": {},
   "source": [
    "# Calcul du nombre de commandes par jour"
   ]
  },
  {
   "cell_type": "code",
   "execution_count": 31,
   "metadata": {},
   "outputs": [
    {
     "data": {
      "text/html": "<div>\n<style scoped>\n    .dataframe tbody tr th:only-of-type {\n        vertical-align: middle;\n    }\n\n    .dataframe tbody tr th {\n        vertical-align: top;\n    }\n\n    .dataframe thead th {\n        text-align: right;\n    }\n</style>\n<table border=\"1\" class=\"dataframe\">\n  <thead>\n    <tr style=\"text-align: right;\">\n      <th></th>\n      <th>date</th>\n      <th>nb_orders</th>\n    </tr>\n  </thead>\n  <tbody>\n    <tr>\n      <th>0</th>\n      <td>None</td>\n      <td>160</td>\n    </tr>\n    <tr>\n      <th>1</th>\n      <td>0</td>\n      <td>9014</td>\n    </tr>\n    <tr>\n      <th>2</th>\n      <td>1</td>\n      <td>13001</td>\n    </tr>\n    <tr>\n      <th>3</th>\n      <td>2</td>\n      <td>19154</td>\n    </tr>\n    <tr>\n      <th>4</th>\n      <td>3</td>\n      <td>15786</td>\n    </tr>\n    <tr>\n      <th>5</th>\n      <td>4</td>\n      <td>15471</td>\n    </tr>\n    <tr>\n      <th>6</th>\n      <td>5</td>\n      <td>14659</td>\n    </tr>\n    <tr>\n      <th>7</th>\n      <td>6</td>\n      <td>12196</td>\n    </tr>\n  </tbody>\n</table>\n</div>",
      "text/plain": "   date  nb_orders\n0  None        160\n1     0       9014\n2     1      13001\n3     2      19154\n4     3      15786\n5     4      15471\n6     5      14659\n7     6      12196"
     },
     "execution_count": 32,
     "metadata": {},
     "output_type": "execute_result"
    }
   ],
   "source": [
    "nb_order_by_day_query = \"\"\"\n",
    "    SELECT strftime('%Y-%m-%d', order_approved_at) as date,\n",
    "    COUNT(order_id) as nb_orders\n",
    "    FROM olist_orders_dataset\n",
    "    GROUP BY date\n",
    "    ORDER BY date\n",
    "\"\"\"\n",
    "\n",
    "nb_order_by_day_query_2 = \"\"\"\n",
    "    SELECT WEEKDAY(order_approved_at) as date,\n",
    "    COUNT(order_id) as nb_orders\n",
    "    FROM olist_orders_dataset\n",
    "    GROUP BY date\n",
    "    ORDER BY date\n",
    "\"\"\"\n",
    "\n",
    "nb_order_by_day = pd.read_sql(nb_order_by_day_query_2, con)\n",
    "nb_order_by_day"
   ]
  },
  {
   "cell_type": "markdown",
   "metadata": {},
   "source": [
    "# Calcul du nombre de commandes par jour de la semaine"
   ]
  },
  {
   "cell_type": "code",
   "execution_count": 33,
   "metadata": {},
   "outputs": [
    {
     "data": {
      "text/html": "<div>\n<style scoped>\n    .dataframe tbody tr th:only-of-type {\n        vertical-align: middle;\n    }\n\n    .dataframe tbody tr th {\n        vertical-align: top;\n    }\n\n    .dataframe thead th {\n        text-align: right;\n    }\n</style>\n<table border=\"1\" class=\"dataframe\">\n  <thead>\n    <tr style=\"text-align: right;\">\n      <th></th>\n      <th>date</th>\n      <th>nb_orders</th>\n    </tr>\n  </thead>\n  <tbody>\n    <tr>\n      <th>0</th>\n      <td>None</td>\n      <td>160</td>\n    </tr>\n    <tr>\n      <th>1</th>\n      <td>0</td>\n      <td>9014</td>\n    </tr>\n    <tr>\n      <th>2</th>\n      <td>1</td>\n      <td>13001</td>\n    </tr>\n    <tr>\n      <th>3</th>\n      <td>2</td>\n      <td>19154</td>\n    </tr>\n    <tr>\n      <th>4</th>\n      <td>3</td>\n      <td>15786</td>\n    </tr>\n    <tr>\n      <th>5</th>\n      <td>4</td>\n      <td>15471</td>\n    </tr>\n    <tr>\n      <th>6</th>\n      <td>5</td>\n      <td>14659</td>\n    </tr>\n    <tr>\n      <th>7</th>\n      <td>6</td>\n      <td>12196</td>\n    </tr>\n  </tbody>\n</table>\n</div>",
      "text/plain": "   date  nb_orders\n0  None        160\n1     0       9014\n2     1      13001\n3     2      19154\n4     3      15786\n5     4      15471\n6     5      14659\n7     6      12196"
     },
     "execution_count": 33,
     "metadata": {},
     "output_type": "execute_result"
    }
   ],
   "source": [
    "nb_order_by_weekday_query = \"\"\"\n",
    "    SELECT strftime('%w', order_approved_at) as date,\n",
    "    COUNT(order_id) as nb_orders\n",
    "    FROM olist_orders_dataset\n",
    "    GROUP BY date\n",
    "    ORDER BY date\n",
    "\"\"\"\n",
    "\n",
    "nb_order_by_weekday = pd.read_sql(nb_order_by_weekday_query, con)\n",
    "nb_order_by_weekday"
   ]
  },
  {
   "cell_type": "markdown",
   "metadata": {},
   "source": [
    "# Calcul de la durée moyenne entre la commande et la livraison"
   ]
  },
  {
   "cell_type": "code",
   "execution_count": 37,
   "metadata": {},
   "outputs": [
    {
     "data": {
      "text/html": "<div>\n<style scoped>\n    .dataframe tbody tr th:only-of-type {\n        vertical-align: middle;\n    }\n\n    .dataframe tbody tr th {\n        vertical-align: top;\n    }\n\n    .dataframe thead th {\n        text-align: right;\n    }\n</style>\n<table border=\"1\" class=\"dataframe\">\n  <thead>\n    <tr style=\"text-align: right;\">\n      <th></th>\n      <th>mean_time</th>\n    </tr>\n  </thead>\n  <tbody>\n    <tr>\n      <th>0</th>\n      <td>12.130357</td>\n    </tr>\n  </tbody>\n</table>\n</div>",
      "text/plain": "   mean_time\n0  12.130357"
     },
     "execution_count": 37,
     "metadata": {},
     "output_type": "execute_result"
    }
   ],
   "source": [
    "mean_time_delivery_order_query = \"\"\"\n",
    "    SELECT AVG(julianday(order_delivered_customer_date) - julianday(order_approved_at)) AS mean_time\n",
    "    FROM olist_orders_dataset\n",
    "    WHERE julianday(order_delivered_customer_date) > 0\n",
    "\"\"\"\n",
    "\n",
    "mean_time_delivery_order = pd.read_sql(mean_time_delivery_order_query, con)\n",
    "mean_time_delivery_order"
   ]
  },
  {
   "cell_type": "markdown",
   "metadata": {},
   "source": [
    "# Calcul du nombre de commandes par ville (Ville de la personne qui commande)"
   ]
  },
  {
   "cell_type": "code",
   "execution_count": 24,
   "metadata": {},
   "outputs": [
    {
     "data": {
      "text/html": "<div>\n<style scoped>\n    .dataframe tbody tr th:only-of-type {\n        vertical-align: middle;\n    }\n\n    .dataframe tbody tr th {\n        vertical-align: top;\n    }\n\n    .dataframe thead th {\n        text-align: right;\n    }\n</style>\n<table border=\"1\" class=\"dataframe\">\n  <thead>\n    <tr style=\"text-align: right;\">\n      <th></th>\n      <th>nb_orders</th>\n      <th>customer_city</th>\n    </tr>\n  </thead>\n  <tbody>\n    <tr>\n      <th>0</th>\n      <td>14971</td>\n      <td>sao paulo</td>\n    </tr>\n    <tr>\n      <th>1</th>\n      <td>6611</td>\n      <td>rio de janeiro</td>\n    </tr>\n    <tr>\n      <th>2</th>\n      <td>2671</td>\n      <td>belo horizonte</td>\n    </tr>\n    <tr>\n      <th>3</th>\n      <td>2066</td>\n      <td>brasilia</td>\n    </tr>\n    <tr>\n      <th>4</th>\n      <td>1462</td>\n      <td>curitiba</td>\n    </tr>\n    <tr>\n      <th>...</th>\n      <td>...</td>\n      <td>...</td>\n    </tr>\n    <tr>\n      <th>4113</th>\n      <td>1</td>\n      <td>acucena</td>\n    </tr>\n    <tr>\n      <th>4114</th>\n      <td>1</td>\n      <td>acari</td>\n    </tr>\n    <tr>\n      <th>4115</th>\n      <td>1</td>\n      <td>acajutiba</td>\n    </tr>\n    <tr>\n      <th>4116</th>\n      <td>1</td>\n      <td>abdon batista</td>\n    </tr>\n    <tr>\n      <th>4117</th>\n      <td>1</td>\n      <td>abadiania</td>\n    </tr>\n  </tbody>\n</table>\n<p>4118 rows × 2 columns</p>\n</div>",
      "text/plain": "      nb_orders   customer_city\n0         14971       sao paulo\n1          6611  rio de janeiro\n2          2671  belo horizonte\n3          2066        brasilia\n4          1462        curitiba\n...         ...             ...\n4113          1         acucena\n4114          1           acari\n4115          1       acajutiba\n4116          1   abdon batista\n4117          1       abadiania\n\n[4118 rows x 2 columns]"
     },
     "execution_count": 24,
     "metadata": {},
     "output_type": "execute_result"
    }
   ],
   "source": [
    "nb_orders_by_city_query = \"\"\"\n",
    "    SELECT COUNT(order_id) as nb_orders, customer_city\n",
    "    FROM olist_orders_dataset \n",
    "    INNER JOIN olist_customers_dataset\n",
    "    ON olist_orders_dataset.customer_id = olist_customers_dataset.customer_id\n",
    "    GROUP BY customer_city\n",
    "    ORDER BY nb_orders DESC\n",
    "\"\"\"\n",
    "\n",
    "nb_orders_by_city = pd.read_sql(nb_orders_by_city_query,con)\n",
    "nb_orders_by_city"
   ]
  },
  {
   "cell_type": "markdown",
   "metadata": {},
   "source": [
    "# Calcul du prix minimum d'une commande"
   ]
  },
  {
   "cell_type": "code",
   "execution_count": 27,
   "metadata": {},
   "outputs": [
    {
     "data": {
      "text/html": "<div>\n<style scoped>\n    .dataframe tbody tr th:only-of-type {\n        vertical-align: middle;\n    }\n\n    .dataframe tbody tr th {\n        vertical-align: top;\n    }\n\n    .dataframe thead th {\n        text-align: right;\n    }\n</style>\n<table border=\"1\" class=\"dataframe\">\n  <thead>\n    <tr style=\"text-align: right;\">\n      <th></th>\n      <th>min_price</th>\n      <th>order_id</th>\n    </tr>\n  </thead>\n  <tbody>\n    <tr>\n      <th>0</th>\n      <td>0.0</td>\n      <td>8bcbe01d44d147f901cd3192671144db</td>\n    </tr>\n  </tbody>\n</table>\n</div>",
      "text/plain": "   min_price                          order_id\n0        0.0  8bcbe01d44d147f901cd3192671144db"
     },
     "execution_count": 27,
     "metadata": {},
     "output_type": "execute_result"
    }
   ],
   "source": [
    "min_price_query = \"\"\"\n",
    "    SELECT MIN(payment_value) as min_price, order_id\n",
    "    FROM olist_order_payments_dataset\n",
    "\"\"\"\n",
    "\n",
    "min_price = pd.read_sql(min_price_query, con)\n",
    "min_price"
   ]
  },
  {
   "cell_type": "markdown",
   "metadata": {},
   "source": [
    "# Calcul du prix maximum d'une commande"
   ]
  },
  {
   "cell_type": "code",
   "execution_count": 40,
   "metadata": {},
   "outputs": [
    {
     "data": {
      "text/html": "<div>\n<style scoped>\n    .dataframe tbody tr th:only-of-type {\n        vertical-align: middle;\n    }\n\n    .dataframe tbody tr th {\n        vertical-align: top;\n    }\n\n    .dataframe thead th {\n        text-align: right;\n    }\n</style>\n<table border=\"1\" class=\"dataframe\">\n  <thead>\n    <tr style=\"text-align: right;\">\n      <th></th>\n      <th>max_price</th>\n      <th>order_id</th>\n    </tr>\n  </thead>\n  <tbody>\n    <tr>\n      <th>0</th>\n      <td>13664.08</td>\n      <td>03caa2c082116e1d31e67e9ae3700499</td>\n    </tr>\n  </tbody>\n</table>\n</div>",
      "text/plain": "   max_price                          order_id\n0   13664.08  03caa2c082116e1d31e67e9ae3700499"
     },
     "execution_count": 40,
     "metadata": {},
     "output_type": "execute_result"
    }
   ],
   "source": [
    "max_price_query = \"\"\"\n",
    "    SELECT MAX(payment_value) as max_price, order_id\n",
    "    FROM olist_order_payments_dataset\n",
    "\"\"\"\n",
    "\n",
    "max_price = pd.read_sql(max_price_query, con)\n",
    "max_price"
   ]
  },
  {
   "cell_type": "markdown",
   "metadata": {},
   "source": [
    "# Calcul du temps moyen d'une livraison par mois (en jour)"
   ]
  },
  {
   "cell_type": "code",
   "execution_count": 39,
   "metadata": {},
   "outputs": [
    {
     "data": {
      "text/html": "<div>\n<style scoped>\n    .dataframe tbody tr th:only-of-type {\n        vertical-align: middle;\n    }\n\n    .dataframe tbody tr th {\n        vertical-align: top;\n    }\n\n    .dataframe thead th {\n        text-align: right;\n    }\n</style>\n<table border=\"1\" class=\"dataframe\">\n  <thead>\n    <tr style=\"text-align: right;\">\n      <th></th>\n      <th>delivery_time</th>\n      <th>date</th>\n    </tr>\n  </thead>\n  <tbody>\n    <tr>\n      <th>0</th>\n      <td>NaN</td>\n      <td>None</td>\n    </tr>\n    <tr>\n      <th>1</th>\n      <td>54.813194</td>\n      <td>2016-09</td>\n    </tr>\n    <tr>\n      <th>2</th>\n      <td>18.728340</td>\n      <td>2016-10</td>\n    </tr>\n    <tr>\n      <th>3</th>\n      <td>4.682720</td>\n      <td>2016-12</td>\n    </tr>\n    <tr>\n      <th>4</th>\n      <td>12.184679</td>\n      <td>2017-01</td>\n    </tr>\n    <tr>\n      <th>5</th>\n      <td>12.677815</td>\n      <td>2017-02</td>\n    </tr>\n    <tr>\n      <th>6</th>\n      <td>12.750773</td>\n      <td>2017-03</td>\n    </tr>\n    <tr>\n      <th>7</th>\n      <td>14.349227</td>\n      <td>2017-04</td>\n    </tr>\n    <tr>\n      <th>8</th>\n      <td>10.931291</td>\n      <td>2017-05</td>\n    </tr>\n    <tr>\n      <th>9</th>\n      <td>11.640613</td>\n      <td>2017-06</td>\n    </tr>\n    <tr>\n      <th>10</th>\n      <td>11.244028</td>\n      <td>2017-07</td>\n    </tr>\n    <tr>\n      <th>11</th>\n      <td>10.695455</td>\n      <td>2017-08</td>\n    </tr>\n    <tr>\n      <th>12</th>\n      <td>11.392023</td>\n      <td>2017-09</td>\n    </tr>\n    <tr>\n      <th>13</th>\n      <td>11.482595</td>\n      <td>2017-10</td>\n    </tr>\n    <tr>\n      <th>14</th>\n      <td>14.603762</td>\n      <td>2017-11</td>\n    </tr>\n    <tr>\n      <th>15</th>\n      <td>15.064361</td>\n      <td>2017-12</td>\n    </tr>\n    <tr>\n      <th>16</th>\n      <td>13.624642</td>\n      <td>2018-01</td>\n    </tr>\n    <tr>\n      <th>17</th>\n      <td>16.420525</td>\n      <td>2018-02</td>\n    </tr>\n    <tr>\n      <th>18</th>\n      <td>16.064638</td>\n      <td>2018-03</td>\n    </tr>\n    <tr>\n      <th>19</th>\n      <td>10.904454</td>\n      <td>2018-04</td>\n    </tr>\n    <tr>\n      <th>20</th>\n      <td>11.016311</td>\n      <td>2018-05</td>\n    </tr>\n    <tr>\n      <th>21</th>\n      <td>8.913337</td>\n      <td>2018-06</td>\n    </tr>\n    <tr>\n      <th>22</th>\n      <td>8.407024</td>\n      <td>2018-07</td>\n    </tr>\n    <tr>\n      <th>23</th>\n      <td>7.377900</td>\n      <td>2018-08</td>\n    </tr>\n  </tbody>\n</table>\n</div>",
      "text/plain": "    delivery_time     date\n0             NaN     None\n1       54.813194  2016-09\n2       18.728340  2016-10\n3        4.682720  2016-12\n4       12.184679  2017-01\n5       12.677815  2017-02\n6       12.750773  2017-03\n7       14.349227  2017-04\n8       10.931291  2017-05\n9       11.640613  2017-06\n10      11.244028  2017-07\n11      10.695455  2017-08\n12      11.392023  2017-09\n13      11.482595  2017-10\n14      14.603762  2017-11\n15      15.064361  2017-12\n16      13.624642  2018-01\n17      16.420525  2018-02\n18      16.064638  2018-03\n19      10.904454  2018-04\n20      11.016311  2018-05\n21       8.913337  2018-06\n22       8.407024  2018-07\n23       7.377900  2018-08"
     },
     "execution_count": 39,
     "metadata": {},
     "output_type": "execute_result"
    }
   ],
   "source": [
    "mean_time_by_month_query = \"\"\"\n",
    "    SELECT AVG(julianday(order_delivered_customer_date) - julianday(order_approved_at)) AS delivery_time,\n",
    "    strftime('%Y-%m', order_approved_at) as date\n",
    "    FROM olist_orders_dataset\n",
    "    WHERE order_status = 'delivered'\n",
    "    GROUP BY date\n",
    "    ORDER BY date\n",
    "\"\"\"\n",
    "\n",
    "mean_time_by_month = pd.read_sql(mean_time_by_month_query,con)\n",
    "mean_time_by_month"
   ]
  },
  {
   "cell_type": "markdown",
   "metadata": {},
   "source": [
    "# Calcul du nombre de commandes par ville du vendeur"
   ]
  },
  {
   "cell_type": "code",
   "execution_count": 62,
   "metadata": {},
   "outputs": [
    {
     "data": {
      "text/html": "<div>\n<style scoped>\n    .dataframe tbody tr th:only-of-type {\n        vertical-align: middle;\n    }\n\n    .dataframe tbody tr th {\n        vertical-align: top;\n    }\n\n    .dataframe thead th {\n        text-align: right;\n    }\n</style>\n<table border=\"1\" class=\"dataframe\">\n  <thead>\n    <tr style=\"text-align: right;\">\n      <th></th>\n      <th>number</th>\n      <th>city</th>\n    </tr>\n  </thead>\n  <tbody>\n    <tr>\n      <th>0</th>\n      <td>24416</td>\n      <td>sao paulo</td>\n    </tr>\n    <tr>\n      <th>1</th>\n      <td>6480</td>\n      <td>ibitinga</td>\n    </tr>\n    <tr>\n      <th>2</th>\n      <td>2688</td>\n      <td>santo andre</td>\n    </tr>\n    <tr>\n      <th>3</th>\n      <td>2684</td>\n      <td>curitiba</td>\n    </tr>\n    <tr>\n      <th>4</th>\n      <td>2392</td>\n      <td>belo horizonte</td>\n    </tr>\n    <tr>\n      <th>...</th>\n      <td>...</td>\n      <td>...</td>\n    </tr>\n    <tr>\n      <th>606</th>\n      <td>1</td>\n      <td>angra dos reis rj</td>\n    </tr>\n    <tr>\n      <th>607</th>\n      <td>1</td>\n      <td>almirante tamandare</td>\n    </tr>\n    <tr>\n      <th>608</th>\n      <td>1</td>\n      <td>aguas claras df</td>\n    </tr>\n    <tr>\n      <th>609</th>\n      <td>1</td>\n      <td>abadia de goias</td>\n    </tr>\n    <tr>\n      <th>610</th>\n      <td>1</td>\n      <td>04482255</td>\n    </tr>\n  </tbody>\n</table>\n<p>611 rows × 2 columns</p>\n</div>",
      "text/plain": "     number                 city\n0     24416            sao paulo\n1      6480             ibitinga\n2      2688          santo andre\n3      2684             curitiba\n4      2392       belo horizonte\n..      ...                  ...\n606       1    angra dos reis rj\n607       1  almirante tamandare\n608       1      aguas claras df\n609       1      abadia de goias\n610       1             04482255\n\n[611 rows x 2 columns]"
     },
     "execution_count": 62,
     "metadata": {},
     "output_type": "execute_result"
    }
   ],
   "source": [
    "nb_orders_by_seller_city_query = \"\"\"\n",
    "SELECT COUNT(o.order_id) AS number, s.seller_city AS city\n",
    "FROM olist_order_items_dataset AS o\n",
    "INNER JOIN olist_sellers_dataset AS s\n",
    "ON s.seller_id = o.seller_id\n",
    "GROUP BY city\n",
    "ORDER BY number DESC\n",
    "\"\"\"\n",
    "nb_orders_by_seller_city = pd.read_sql(nb_orders_by_seller_city_query, con)\n",
    "# nb_orders_by_seller_city.city.isin(['rio de janeiro']).any()\n",
    "nb_orders_by_seller_city"
   ]
  },
  {
   "cell_type": "code",
   "execution_count": null,
   "metadata": {},
   "outputs": [],
   "source": []
  }
 ],
 "metadata": {
  "kernelspec": {
   "display_name": "Python 3.8.8 64-bit ('base': conda)",
   "metadata": {
    "interpreter": {
     "hash": "5b9c502b618e97131917a2f1409b4700bb639cdf99ce16cd88a0e27a90524386"
    }
   },
   "name": "python3"
  },
  "language_info": {
   "codemirror_mode": {
    "name": "ipython",
    "version": 3
   },
   "file_extension": ".py",
   "mimetype": "text/x-python",
   "name": "python",
   "nbconvert_exporter": "python",
   "pygments_lexer": "ipython3",
   "version": "3.8.8"
  },
  "orig_nbformat": 2
 },
 "nbformat": 4,
 "nbformat_minor": 2
}