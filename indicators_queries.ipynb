{
 "cells": [
  {
   "cell_type": "markdown",
   "metadata": {},
   "source": [
    "# Import modules"
   ]
  },
  {
   "cell_type": "code",
   "execution_count": 2,
   "metadata": {},
   "outputs": [
    {
     "data": {
      "text/plain": "<sqlite3.Cursor at 0x7ffb231dc030>"
     },
     "execution_count": 2,
     "metadata": {},
     "output_type": "execute_result"
    }
   ],
   "source": [
    "import sqlite3\n",
    "import pandas as pd\n",
    "\n",
    "DB_NAME = 'olist_db.db'\n",
    "\n",
    "con = sqlite3.connect(DB_NAME)\n",
    "cur = con.cursor()\n",
    "cur.execute('pragma encoding=UTF8')"
   ]
  },
  {
   "cell_type": "markdown",
   "metadata": {},
   "source": [
    "# Calcul le nombre de clients dans la table des customers"
   ]
  },
  {
   "cell_type": "code",
   "execution_count": 3,
   "metadata": {},
   "outputs": [
    {
     "data": {
      "text/html": "<div>\n<style scoped>\n    .dataframe tbody tr th:only-of-type {\n        vertical-align: middle;\n    }\n\n    .dataframe tbody tr th {\n        vertical-align: top;\n    }\n\n    .dataframe thead th {\n        text-align: right;\n    }\n</style>\n<table border=\"1\" class=\"dataframe\">\n  <thead>\n    <tr style=\"text-align: right;\">\n      <th></th>\n      <th>nb_customers</th>\n    </tr>\n  </thead>\n  <tbody>\n    <tr>\n      <th>0</th>\n      <td>96096</td>\n    </tr>\n  </tbody>\n</table>\n</div>",
      "text/plain": "   nb_customers\n0         96096"
     },
     "execution_count": 3,
     "metadata": {},
     "output_type": "execute_result"
    }
   ],
   "source": [
    "nb_clients_query = \"\"\"\n",
    "    SELECT COUNT(customer_unique_id) as nb_customers\n",
    "    FROM olist_customers_dataset\n",
    "\"\"\"\n",
    "\n",
    "clients_count = pd.read_sql(nb_clients_query, con)\n",
    "clients_count"
   ]
  },
  {
   "cell_type": "markdown",
   "metadata": {},
   "source": [
    "# Calcul du nombre de produits dans la table des products"
   ]
  },
  {
   "cell_type": "code",
   "execution_count": 4,
   "metadata": {},
   "outputs": [
    {
     "data": {
      "text/html": "<div>\n<style scoped>\n    .dataframe tbody tr th:only-of-type {\n        vertical-align: middle;\n    }\n\n    .dataframe tbody tr th {\n        vertical-align: top;\n    }\n\n    .dataframe thead th {\n        text-align: right;\n    }\n</style>\n<table border=\"1\" class=\"dataframe\">\n  <thead>\n    <tr style=\"text-align: right;\">\n      <th></th>\n      <th>nb_products</th>\n    </tr>\n  </thead>\n  <tbody>\n    <tr>\n      <th>0</th>\n      <td>32951</td>\n    </tr>\n  </tbody>\n</table>\n</div>",
      "text/plain": "   nb_products\n0        32951"
     },
     "execution_count": 4,
     "metadata": {},
     "output_type": "execute_result"
    }
   ],
   "source": [
    "nb_products_query = \"\"\"\n",
    "    SELECT COUNT(product_id) as nb_products\n",
    "    FROM olist_products_dataset\n",
    "\"\"\"\n",
    "\n",
    "products_count = pd.read_sql(nb_products_query, con)\n",
    "products_count"
   ]
  },
  {
   "cell_type": "markdown",
   "metadata": {},
   "source": [
    "# Calcul du nombre de produits par catégorie"
   ]
  },
  {
   "cell_type": "code",
   "execution_count": 5,
   "metadata": {},
   "outputs": [
    {
     "data": {
      "text/html": "<div>\n<style scoped>\n    .dataframe tbody tr th:only-of-type {\n        vertical-align: middle;\n    }\n\n    .dataframe tbody tr th {\n        vertical-align: top;\n    }\n\n    .dataframe thead th {\n        text-align: right;\n    }\n</style>\n<table border=\"1\" class=\"dataframe\">\n  <thead>\n    <tr style=\"text-align: right;\">\n      <th></th>\n      <th>nb_products</th>\n      <th>product_category_name</th>\n    </tr>\n  </thead>\n  <tbody>\n    <tr>\n      <th>0</th>\n      <td>3029</td>\n      <td>cama_mesa_banho</td>\n    </tr>\n    <tr>\n      <th>1</th>\n      <td>2867</td>\n      <td>esporte_lazer</td>\n    </tr>\n    <tr>\n      <th>2</th>\n      <td>2657</td>\n      <td>moveis_decoracao</td>\n    </tr>\n    <tr>\n      <th>3</th>\n      <td>2444</td>\n      <td>beleza_saude</td>\n    </tr>\n    <tr>\n      <th>4</th>\n      <td>2335</td>\n      <td>utilidades_domesticas</td>\n    </tr>\n    <tr>\n      <th>...</th>\n      <td>...</td>\n      <td>...</td>\n    </tr>\n    <tr>\n      <th>69</th>\n      <td>5</td>\n      <td>fashion_roupa_infanto_juvenil</td>\n    </tr>\n    <tr>\n      <th>70</th>\n      <td>5</td>\n      <td>casa_conforto_2</td>\n    </tr>\n    <tr>\n      <th>71</th>\n      <td>3</td>\n      <td>pc_gamer</td>\n    </tr>\n    <tr>\n      <th>72</th>\n      <td>2</td>\n      <td>seguros_e_servicos</td>\n    </tr>\n    <tr>\n      <th>73</th>\n      <td>1</td>\n      <td>cds_dvds_musicais</td>\n    </tr>\n  </tbody>\n</table>\n<p>74 rows × 2 columns</p>\n</div>",
      "text/plain": "    nb_products          product_category_name\n0          3029                cama_mesa_banho\n1          2867                  esporte_lazer\n2          2657               moveis_decoracao\n3          2444                   beleza_saude\n4          2335          utilidades_domesticas\n..          ...                            ...\n69            5  fashion_roupa_infanto_juvenil\n70            5                casa_conforto_2\n71            3                       pc_gamer\n72            2             seguros_e_servicos\n73            1              cds_dvds_musicais\n\n[74 rows x 2 columns]"
     },
     "execution_count": 5,
     "metadata": {},
     "output_type": "execute_result"
    }
   ],
   "source": [
    "nb_products_by_cat_query = \"\"\"\n",
    "    SELECT COUNT(product_id) as nb_products, product_category_name \n",
    "    FROM olist_products_dataset \n",
    "    GROUP BY product_category_name\n",
    "    ORDER BY nb_products DESC\n",
    "\"\"\"\n",
    "\n",
    "products_by_cat = pd.read_sql(nb_products_by_cat_query,con)\n",
    "products_by_cat"
   ]
  },
  {
   "cell_type": "markdown",
   "metadata": {},
   "source": [
    "# Calcul du nombre de commandes dans la table orders"
   ]
  },
  {
   "cell_type": "code",
   "execution_count": 6,
   "metadata": {},
   "outputs": [
    {
     "data": {
      "text/html": "<div>\n<style scoped>\n    .dataframe tbody tr th:only-of-type {\n        vertical-align: middle;\n    }\n\n    .dataframe tbody tr th {\n        vertical-align: top;\n    }\n\n    .dataframe thead th {\n        text-align: right;\n    }\n</style>\n<table border=\"1\" class=\"dataframe\">\n  <thead>\n    <tr style=\"text-align: right;\">\n      <th></th>\n      <th>nb_orders</th>\n    </tr>\n  </thead>\n  <tbody>\n    <tr>\n      <th>0</th>\n      <td>99441</td>\n    </tr>\n  </tbody>\n</table>\n</div>",
      "text/plain": "   nb_orders\n0      99441"
     },
     "execution_count": 6,
     "metadata": {},
     "output_type": "execute_result"
    }
   ],
   "source": [
    "nb_orders_query = \"\"\"\n",
    "    SELECT COUNT(order_id) as nb_orders\n",
    "    FROM olist_orders_dataset\n",
    "\"\"\"\n",
    "\n",
    "nb_orders = pd.read_sql(nb_orders_query,con)\n",
    "nb_orders"
   ]
  },
  {
   "cell_type": "markdown",
   "metadata": {},
   "source": [
    "# Calcul du nombre de commandes par status"
   ]
  },
  {
   "cell_type": "code",
   "execution_count": 7,
   "metadata": {},
   "outputs": [
    {
     "data": {
      "text/html": "<div>\n<style scoped>\n    .dataframe tbody tr th:only-of-type {\n        vertical-align: middle;\n    }\n\n    .dataframe tbody tr th {\n        vertical-align: top;\n    }\n\n    .dataframe thead th {\n        text-align: right;\n    }\n</style>\n<table border=\"1\" class=\"dataframe\">\n  <thead>\n    <tr style=\"text-align: right;\">\n      <th></th>\n      <th>nb_orders</th>\n      <th>order_status</th>\n    </tr>\n  </thead>\n  <tbody>\n    <tr>\n      <th>0</th>\n      <td>2</td>\n      <td>approved</td>\n    </tr>\n    <tr>\n      <th>1</th>\n      <td>625</td>\n      <td>canceled</td>\n    </tr>\n    <tr>\n      <th>2</th>\n      <td>5</td>\n      <td>created</td>\n    </tr>\n    <tr>\n      <th>3</th>\n      <td>96478</td>\n      <td>delivered</td>\n    </tr>\n    <tr>\n      <th>4</th>\n      <td>314</td>\n      <td>invoiced</td>\n    </tr>\n    <tr>\n      <th>5</th>\n      <td>301</td>\n      <td>processing</td>\n    </tr>\n    <tr>\n      <th>6</th>\n      <td>1107</td>\n      <td>shipped</td>\n    </tr>\n    <tr>\n      <th>7</th>\n      <td>609</td>\n      <td>unavailable</td>\n    </tr>\n  </tbody>\n</table>\n</div>",
      "text/plain": "   nb_orders order_status\n0          2     approved\n1        625     canceled\n2          5      created\n3      96478    delivered\n4        314     invoiced\n5        301   processing\n6       1107      shipped\n7        609  unavailable"
     },
     "execution_count": 7,
     "metadata": {},
     "output_type": "execute_result"
    }
   ],
   "source": [
    "nb_order_by_status_query = \"\"\"\n",
    "    SELECT COUNT(order_id) as nb_orders, order_status\n",
    "    FROM olist_orders_dataset\n",
    "    GROUP BY order_status\n",
    "\"\"\"\n",
    "\n",
    "nb_order_by_status = pd.read_sql(nb_order_by_status_query,con)\n",
    "nb_order_by_status"
   ]
  },
  {
   "cell_type": "markdown",
   "metadata": {},
   "source": [
    "# Calcul du nombre de commandes par mois"
   ]
  },
  {
   "cell_type": "code",
   "execution_count": 8,
   "metadata": {},
   "outputs": [
    {
     "data": {
      "text/html": "<div>\n<style scoped>\n    .dataframe tbody tr th:only-of-type {\n        vertical-align: middle;\n    }\n\n    .dataframe tbody tr th {\n        vertical-align: top;\n    }\n\n    .dataframe thead th {\n        text-align: right;\n    }\n</style>\n<table border=\"1\" class=\"dataframe\">\n  <thead>\n    <tr style=\"text-align: right;\">\n      <th></th>\n      <th>date</th>\n      <th>order_by_month</th>\n    </tr>\n  </thead>\n  <tbody>\n    <tr>\n      <th>0</th>\n      <td>None</td>\n      <td>160</td>\n    </tr>\n    <tr>\n      <th>1</th>\n      <td>2016-09</td>\n      <td>1</td>\n    </tr>\n    <tr>\n      <th>2</th>\n      <td>2016-10</td>\n      <td>320</td>\n    </tr>\n    <tr>\n      <th>3</th>\n      <td>2016-12</td>\n      <td>1</td>\n    </tr>\n    <tr>\n      <th>4</th>\n      <td>2017-01</td>\n      <td>760</td>\n    </tr>\n    <tr>\n      <th>5</th>\n      <td>2017-02</td>\n      <td>1765</td>\n    </tr>\n    <tr>\n      <th>6</th>\n      <td>2017-03</td>\n      <td>2689</td>\n    </tr>\n    <tr>\n      <th>7</th>\n      <td>2017-04</td>\n      <td>2374</td>\n    </tr>\n    <tr>\n      <th>8</th>\n      <td>2017-05</td>\n      <td>3693</td>\n    </tr>\n    <tr>\n      <th>9</th>\n      <td>2017-06</td>\n      <td>3252</td>\n    </tr>\n    <tr>\n      <th>10</th>\n      <td>2017-07</td>\n      <td>3974</td>\n    </tr>\n    <tr>\n      <th>11</th>\n      <td>2017-08</td>\n      <td>4348</td>\n    </tr>\n    <tr>\n      <th>12</th>\n      <td>2017-09</td>\n      <td>4301</td>\n    </tr>\n    <tr>\n      <th>13</th>\n      <td>2017-10</td>\n      <td>4590</td>\n    </tr>\n    <tr>\n      <th>14</th>\n      <td>2017-11</td>\n      <td>7395</td>\n    </tr>\n    <tr>\n      <th>15</th>\n      <td>2017-12</td>\n      <td>5832</td>\n    </tr>\n    <tr>\n      <th>16</th>\n      <td>2018-01</td>\n      <td>7187</td>\n    </tr>\n    <tr>\n      <th>17</th>\n      <td>2018-02</td>\n      <td>6706</td>\n    </tr>\n    <tr>\n      <th>18</th>\n      <td>2018-03</td>\n      <td>7288</td>\n    </tr>\n    <tr>\n      <th>19</th>\n      <td>2018-04</td>\n      <td>6778</td>\n    </tr>\n    <tr>\n      <th>20</th>\n      <td>2018-05</td>\n      <td>7066</td>\n    </tr>\n    <tr>\n      <th>21</th>\n      <td>2018-06</td>\n      <td>6164</td>\n    </tr>\n    <tr>\n      <th>22</th>\n      <td>2018-07</td>\n      <td>6176</td>\n    </tr>\n    <tr>\n      <th>23</th>\n      <td>2018-08</td>\n      <td>6620</td>\n    </tr>\n    <tr>\n      <th>24</th>\n      <td>2018-09</td>\n      <td>1</td>\n    </tr>\n  </tbody>\n</table>\n</div>",
      "text/plain": "       date  order_by_month\n0      None             160\n1   2016-09               1\n2   2016-10             320\n3   2016-12               1\n4   2017-01             760\n5   2017-02            1765\n6   2017-03            2689\n7   2017-04            2374\n8   2017-05            3693\n9   2017-06            3252\n10  2017-07            3974\n11  2017-08            4348\n12  2017-09            4301\n13  2017-10            4590\n14  2017-11            7395\n15  2017-12            5832\n16  2018-01            7187\n17  2018-02            6706\n18  2018-03            7288\n19  2018-04            6778\n20  2018-05            7066\n21  2018-06            6164\n22  2018-07            6176\n23  2018-08            6620\n24  2018-09               1"
     },
     "execution_count": 8,
     "metadata": {},
     "output_type": "execute_result"
    }
   ],
   "source": [
    "nb_order_by_month_query = \"\"\"\n",
    "    SELECT strftime('%Y-%m', order_approved_at) AS date,\n",
    "    COUNT(order_id) AS order_by_month\n",
    "    FROM olist_orders_dataset\n",
    "    GROUP BY date\n",
    "    ORDER BY date\n",
    "\"\"\"\n",
    "\n",
    "nb_order_by_month = pd.read_sql(nb_order_by_month_query,con)\n",
    "nb_order_by_month"
   ]
  },
  {
   "cell_type": "markdown",
   "metadata": {},
   "source": [
    "# Calcul du prix moyen d'une commande"
   ]
  },
  {
   "cell_type": "code",
   "execution_count": 9,
   "metadata": {},
   "outputs": [
    {
     "data": {
      "text/html": "<div>\n<style scoped>\n    .dataframe tbody tr th:only-of-type {\n        vertical-align: middle;\n    }\n\n    .dataframe tbody tr th {\n        vertical-align: top;\n    }\n\n    .dataframe thead th {\n        text-align: right;\n    }\n</style>\n<table border=\"1\" class=\"dataframe\">\n  <thead>\n    <tr style=\"text-align: right;\">\n      <th></th>\n      <th>mean_orders</th>\n    </tr>\n  </thead>\n  <tbody>\n    <tr>\n      <th>0</th>\n      <td>154.10038</td>\n    </tr>\n  </tbody>\n</table>\n</div>",
      "text/plain": "   mean_orders\n0    154.10038"
     },
     "execution_count": 9,
     "metadata": {},
     "output_type": "execute_result"
    }
   ],
   "source": [
    "mean_order_query = \"\"\"\n",
    "    SELECT AVG(payment_value) AS mean_orders\n",
    "    FROM olist_order_payments_dataset\n",
    "\"\"\"\n",
    "\n",
    "mean_order = pd.read_sql(mean_order_query,con)\n",
    "mean_order"
   ]
  },
  {
   "cell_type": "markdown",
   "metadata": {},
   "source": [
    "# Calcul du score de satisfaction moyen (note moyenne sur les commandes)"
   ]
  },
  {
   "cell_type": "code",
   "execution_count": 10,
   "metadata": {},
   "outputs": [
    {
     "data": {
      "text/html": "<div>\n<style scoped>\n    .dataframe tbody tr th:only-of-type {\n        vertical-align: middle;\n    }\n\n    .dataframe tbody tr th {\n        vertical-align: top;\n    }\n\n    .dataframe thead th {\n        text-align: right;\n    }\n</style>\n<table border=\"1\" class=\"dataframe\">\n  <thead>\n    <tr style=\"text-align: right;\">\n      <th></th>\n      <th>mean_reviews_score</th>\n    </tr>\n  </thead>\n  <tbody>\n    <tr>\n      <th>0</th>\n      <td>4.073296</td>\n    </tr>\n  </tbody>\n</table>\n</div>",
      "text/plain": "   mean_reviews_score\n0            4.073296"
     },
     "execution_count": 10,
     "metadata": {},
     "output_type": "execute_result"
    }
   ],
   "source": [
    "mean_score_query = \"\"\"\n",
    "    SELECT AVG(review_score) as mean_reviews_score\n",
    "    FROM olist_order_reviews_dataset\n",
    "\"\"\"\n",
    "\n",
    "mean_score = pd.read_sql(mean_score_query,con)\n",
    "mean_score"
   ]
  },
  {
   "cell_type": "markdown",
   "metadata": {},
   "source": [
    "# Calcul de nombre de vendeurs dans la table sellers"
   ]
  },
  {
   "cell_type": "code",
   "execution_count": 11,
   "metadata": {},
   "outputs": [
    {
     "data": {
      "text/html": "<div>\n<style scoped>\n    .dataframe tbody tr th:only-of-type {\n        vertical-align: middle;\n    }\n\n    .dataframe tbody tr th {\n        vertical-align: top;\n    }\n\n    .dataframe thead th {\n        text-align: right;\n    }\n</style>\n<table border=\"1\" class=\"dataframe\">\n  <thead>\n    <tr style=\"text-align: right;\">\n      <th></th>\n      <th>nb_sellers</th>\n    </tr>\n  </thead>\n  <tbody>\n    <tr>\n      <th>0</th>\n      <td>3095</td>\n    </tr>\n  </tbody>\n</table>\n</div>",
      "text/plain": "   nb_sellers\n0        3095"
     },
     "execution_count": 11,
     "metadata": {},
     "output_type": "execute_result"
    }
   ],
   "source": [
    "nb_sellers_query = \"\"\"\n",
    "    SELECT COUNT(seller_id) as nb_sellers\n",
    "    FROM olist_sellers_dataset\n",
    "\"\"\"\n",
    "\n",
    "nb_sellers = pd.read_sql(nb_sellers_query,con)\n",
    "nb_sellers"
   ]
  },
  {
   "cell_type": "markdown",
   "metadata": {},
   "source": [
    "# Calcul du nombre de vendeurs par region"
   ]
  },
  {
   "cell_type": "code",
   "execution_count": 15,
   "metadata": {},
   "outputs": [
    {
     "data": {
      "text/html": "<div>\n<style scoped>\n    .dataframe tbody tr th:only-of-type {\n        vertical-align: middle;\n    }\n\n    .dataframe tbody tr th {\n        vertical-align: top;\n    }\n\n    .dataframe thead th {\n        text-align: right;\n    }\n</style>\n<table border=\"1\" class=\"dataframe\">\n  <thead>\n    <tr style=\"text-align: right;\">\n      <th></th>\n      <th>nb_sellers</th>\n      <th>seller_state</th>\n    </tr>\n  </thead>\n  <tbody>\n    <tr>\n      <th>0</th>\n      <td>1849</td>\n      <td>SP</td>\n    </tr>\n    <tr>\n      <th>1</th>\n      <td>349</td>\n      <td>PR</td>\n    </tr>\n    <tr>\n      <th>2</th>\n      <td>244</td>\n      <td>MG</td>\n    </tr>\n    <tr>\n      <th>3</th>\n      <td>190</td>\n      <td>SC</td>\n    </tr>\n    <tr>\n      <th>4</th>\n      <td>171</td>\n      <td>RJ</td>\n    </tr>\n    <tr>\n      <th>5</th>\n      <td>129</td>\n      <td>RS</td>\n    </tr>\n    <tr>\n      <th>6</th>\n      <td>40</td>\n      <td>GO</td>\n    </tr>\n    <tr>\n      <th>7</th>\n      <td>30</td>\n      <td>DF</td>\n    </tr>\n    <tr>\n      <th>8</th>\n      <td>23</td>\n      <td>ES</td>\n    </tr>\n    <tr>\n      <th>9</th>\n      <td>19</td>\n      <td>BA</td>\n    </tr>\n    <tr>\n      <th>10</th>\n      <td>13</td>\n      <td>CE</td>\n    </tr>\n    <tr>\n      <th>11</th>\n      <td>9</td>\n      <td>PE</td>\n    </tr>\n    <tr>\n      <th>12</th>\n      <td>6</td>\n      <td>PB</td>\n    </tr>\n    <tr>\n      <th>13</th>\n      <td>5</td>\n      <td>RN</td>\n    </tr>\n    <tr>\n      <th>14</th>\n      <td>5</td>\n      <td>MS</td>\n    </tr>\n    <tr>\n      <th>15</th>\n      <td>4</td>\n      <td>MT</td>\n    </tr>\n    <tr>\n      <th>16</th>\n      <td>2</td>\n      <td>SE</td>\n    </tr>\n    <tr>\n      <th>17</th>\n      <td>2</td>\n      <td>RO</td>\n    </tr>\n    <tr>\n      <th>18</th>\n      <td>1</td>\n      <td>PI</td>\n    </tr>\n    <tr>\n      <th>19</th>\n      <td>1</td>\n      <td>PA</td>\n    </tr>\n    <tr>\n      <th>20</th>\n      <td>1</td>\n      <td>MA</td>\n    </tr>\n    <tr>\n      <th>21</th>\n      <td>1</td>\n      <td>AM</td>\n    </tr>\n    <tr>\n      <th>22</th>\n      <td>1</td>\n      <td>AC</td>\n    </tr>\n  </tbody>\n</table>\n</div>",
      "text/plain": "    nb_sellers seller_state\n0         1849           SP\n1          349           PR\n2          244           MG\n3          190           SC\n4          171           RJ\n5          129           RS\n6           40           GO\n7           30           DF\n8           23           ES\n9           19           BA\n10          13           CE\n11           9           PE\n12           6           PB\n13           5           RN\n14           5           MS\n15           4           MT\n16           2           SE\n17           2           RO\n18           1           PI\n19           1           PA\n20           1           MA\n21           1           AM\n22           1           AC"
     },
     "execution_count": 15,
     "metadata": {},
     "output_type": "execute_result"
    }
   ],
   "source": [
    "nb_sellers_by_state_query = \"\"\"\n",
    "    SELECT COUNT(seller_id) as nb_sellers, seller_state\n",
    "    FROM olist_sellers_dataset\n",
    "    GROUP BY seller_state\n",
    "    ORDER BY nb_sellers DESC\n",
    "\"\"\"\n",
    "\n",
    "nb_sellers_by_state = pd.read_sql(nb_sellers_by_state_query, con)\n",
    "nb_sellers_by_state"
   ]
  },
  {
   "cell_type": "markdown",
   "metadata": {},
   "source": [
    "# Calcul de la quantité de produits vendu par categorie"
   ]
  },
  {
   "cell_type": "code",
   "execution_count": null,
   "metadata": {},
   "outputs": [],
   "source": []
  }
 ],
 "metadata": {
  "kernelspec": {
   "display_name": "Python 3.8.8 64-bit ('base': conda)",
   "metadata": {
    "interpreter": {
     "hash": "5b9c502b618e97131917a2f1409b4700bb639cdf99ce16cd88a0e27a90524386"
    }
   },
   "name": "python3"
  },
  "language_info": {
   "codemirror_mode": {
    "name": "ipython",
    "version": 3
   },
   "file_extension": ".py",
   "mimetype": "text/x-python",
   "name": "python",
   "nbconvert_exporter": "python",
   "pygments_lexer": "ipython3",
   "version": "3.8.8"
  },
  "orig_nbformat": 2
 },
 "nbformat": 4,
 "nbformat_minor": 2
}